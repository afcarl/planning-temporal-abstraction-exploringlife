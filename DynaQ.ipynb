{
  "nbformat": 4,
  "nbformat_minor": 0,
  "metadata": {
    "colab": {
      "name": "DynaQ.ipynb",
      "version": "0.3.2",
      "views": {},
      "default_view": {},
      "provenance": [],
      "collapsed_sections": []
    },
    "kernelspec": {
      "name": "python3",
      "display_name": "Python 3"
    }
  },
  "cells": [
    {
      "metadata": {
        "id": "nCi-noVINJjU",
        "colab_type": "text"
      },
      "cell_type": "markdown",
      "source": [
        "## RL Assignment - Track 1 (Dyna Q)\n",
        "\n",
        "** Name :** Shruti Bhanderi\n",
        "\n",
        "**McGill ID:** 260724575\n",
        "\n"
      ]
    },
    {
      "metadata": {
        "id": "fmEtAwcq6JEl",
        "colab_type": "code",
        "colab": {
          "autoexec": {
            "startup": false,
            "wait_interval": 0
          },
          "output_extras": [
            {
              "item_id": 2
            }
          ],
          "base_uri": "https://localhost:8080/",
          "height": 122
        },
        "outputId": "081fd959-5d4a-491d-bd8e-b41975c12193",
        "executionInfo": {
          "status": "ok",
          "timestamp": 1519348559561,
          "user_tz": 300,
          "elapsed": 3524,
          "user": {
            "displayName": "SHRUTI BHANDERI",
            "photoUrl": "//lh5.googleusercontent.com/-sfHHQK7qz0U/AAAAAAAAAAI/AAAAAAAAAIQ/2hfrELCtnWs/s50-c-k-no/photo.jpg",
            "userId": "108545729721483419192"
          }
        }
      },
      "cell_type": "code",
      "source": [
        "! pip install git+https://github.com/deepmind/pycolab.git"
      ],
      "execution_count": 8,
      "outputs": [
        {
          "output_type": "stream",
          "text": [
            "Collecting git+https://github.com/deepmind/pycolab.git\r\n",
            "  Cloning https://github.com/deepmind/pycolab.git to /tmp/pip-96zv8lbb-build\n",
            "  Requirement already satisfied (use --upgrade to upgrade): pycolab==1.0 from git+https://github.com/deepmind/pycolab.git in /usr/local/lib/python3.6/dist-packages\n",
            "Requirement already satisfied: numpy>=1.9 in /usr/local/lib/python3.6/dist-packages (from pycolab==1.0)\n",
            "Requirement already satisfied: six in /usr/local/lib/python3.6/dist-packages (from pycolab==1.0)\n"
          ],
          "name": "stdout"
        }
      ]
    },
    {
      "metadata": {
        "id": "y_cMZsyg66Rb",
        "colab_type": "code",
        "colab": {
          "autoexec": {
            "startup": false,
            "wait_interval": 0
          }
        }
      },
      "cell_type": "code",
      "source": [
        "from __future__ import absolute_import\n",
        "from __future__ import division\n",
        "from __future__ import print_function\n",
        "\n",
        "import curses\n",
        "import sys\n",
        "\n",
        "from pycolab import ascii_art\n",
        "from pycolab import human_ui\n",
        "from pycolab.prefab_parts import sprites as prefab_sprites\n",
        "import matplotlib.pyplot as plt\n",
        "import numpy as np\n",
        "\n",
        "\n",
        "\n",
        "GAME_ART = [['###########',\n",
        "             '#         #',\n",
        "             '#         #',\n",
        "             '#         #',\n",
        "             '######### #',\n",
        "             '#         #',\n",
        "             '#   P     #',\n",
        "             '###########'],\n",
        "            ['###########',\n",
        "             '#         #',\n",
        "             '#         #',\n",
        "             '#         #',\n",
        "             '# #########',\n",
        "             '#         #',\n",
        "             '#   P     #',\n",
        "             '###########'],\n",
        "            ['###########',\n",
        "             '#         #',\n",
        "             '#         #',\n",
        "             '#         #',\n",
        "             '# ####### #',\n",
        "             '#         #',\n",
        "             '#   P     #',\n",
        "             '###########'],\n",
        "            ]\n",
        "\n",
        "\n",
        "ACTION_UP = 0\n",
        "ACTION_DOWN = 1\n",
        "ACTION_LEFT = 2\n",
        "ACTION_RIGHT = 3\n",
        "actions = [ACTION_UP, ACTION_DOWN, ACTION_LEFT ,ACTION_RIGHT]\n",
        "maxSteps=3000\n"
      ],
      "execution_count": 0,
      "outputs": []
    },
    {
      "metadata": {
        "id": "g7mOOGH6xaD6",
        "colab_type": "code",
        "colab": {
          "autoexec": {
            "startup": false,
            "wait_interval": 0
          }
        }
      },
      "cell_type": "code",
      "source": [
        "#################Pycolab functions overriding######################################\n",
        "\n",
        "\n",
        "def make_game(maze):\n",
        "    return ascii_art.ascii_art_to_game(maze,what_lies_beneath=' ', sprites={'P':PlayerSprite})\n",
        "\n",
        "class PlayerSprite(prefab_sprites.MazeWalker):\n",
        "\n",
        "    def __init__(self,corner,position,character):\n",
        "        super(PlayerSprite,self).__init__(corner,position,character,impassable='#')\n",
        "\n",
        "    def update(self,actions,board,layers,backdrop,things,the_plot):\n",
        "        del layers,backdrop,things\n",
        "\n",
        "        if actions ==0:\n",
        "            the_plot.add_reward(0.0)\n",
        "            self._north(board,the_plot)\n",
        "        elif actions ==1:\n",
        "            the_plot.add_reward(0.0)\n",
        "            self._south(board,the_plot)\n",
        "        elif actions ==2:\n",
        "            the_plot.add_reward(0.0)\n",
        "            self._west(board,the_plot)\n",
        "        elif actions ==3:\n",
        "            the_plot.add_reward(0.0)\n",
        "            self._east(board,the_plot)\n",
        "\n",
        "        if self.position ==(1,9):\n",
        "            the_plot.add_reward(1.0)\n",
        "\n",
        "        if (actions == -1):\n",
        "            self._teleport((6,4))  # we should go back to start position when we reach goal.\n",
        "\n"
      ],
      "execution_count": 0,
      "outputs": []
    },
    {
      "metadata": {
        "id": "koMqewvkF2fT",
        "colab_type": "text"
      },
      "cell_type": "markdown",
      "source": [
        "\n",
        "\n",
        " >**Dyna-Q (Sutton & Barto)**\n",
        "\n",
        "---\n",
        "\n",
        "Loop:\n",
        "1. $S \\leftarrow$  current_state\n",
        "2. $A \\leftarrow$ epsilon-greedy $(S,Q)$\n",
        "3. Take action $A$; observe resultant reward,$R$, and state $S'$\n",
        "4. $Q$-learning update : $Q(S,A) \\leftarrow Q(S,A) + \\alpha [R + \\gamma * max_a Q(S',a) - Q(S,A)]$\n",
        "5. Deterministic Environment : $Model(S,A) \\leftarrow R,S'$\n",
        "6. Loop $n$ times:\n",
        "   * $S \\leftarrow$  random previously observed state\n",
        "   * $A \\leftarrow$  random action previously taken in S\n",
        "   * $R,S' \\leftarrow$ Model(S,A)\n",
        "   * $Q(S,A) \\leftarrow Q(S,A) + \\alpha [R + \\gamma * max_a Q(S',a) - Q(S,A)]$\n",
        "  "
      ]
    },
    {
      "metadata": {
        "id": "g4shaGVJJJJD",
        "colab_type": "code",
        "colab": {
          "autoexec": {
            "startup": false,
            "wait_interval": 0
          }
        }
      },
      "cell_type": "code",
      "source": [
        "# DynaQ implementation\n",
        "\n",
        "\n",
        "# Dyna Q and Dyna Q+ - this will be called for each episode,\n",
        "def dynaQ(stateActionValues,maze,params,game,model):\n",
        "    # Steps 1: defining S (Sutton & Barto)\n",
        "    currentState=(6,4)\n",
        "    steps=0\n",
        "    while (currentState!=(1,9)):\n",
        "        steps+=1\n",
        "\n",
        "        # Steps 2: epsilon greedy algo - choosing action (Sutton & Barto)\n",
        "        action = epsilonGreedy(currentState,stateActionValues,params)\n",
        "\n",
        "        # Steps 3: playing action (Sutton & Barto)- returning observations(state) and reward\n",
        "        obs,reward,gamma = game.play(action)\n",
        "        newpositions =np.array(obs.layers['P'],dtype=np.float)\n",
        "        newState = np.where(newpositions ==1)            #state returned S'\n",
        "\n",
        "        # Steps 4: Q-learning update step (Sutton & Barto)- formula\n",
        "        stateActionValues[currentState[0],currentState[1],action]+=params.alpha * (reward + params.gamma * np.max(stateActionValues[newState[0], newState[1], :]) -stateActionValues[currentState[0], currentState[1], action])\n",
        "\n",
        "        # Steps 5: training our model with experience (assuming deterministic environment) (Sutton & Barto)\n",
        "        model.train(currentState, action, newState, reward)\n",
        "\n",
        "        # Step 6: sampling experience from above model (Sutton & Barto)\n",
        "        for t in range(0, params.planningSteps):\n",
        "            # 6a) random previously observed state,6b) action and 6c) Model update\n",
        "            stateSample, actionSample, newStateSample, rewardSample = model.sample()\n",
        "            #6c) Q-learning update step planning\n",
        "            stateActionValues[stateSample[0], stateSample[1], actionSample] += \\\n",
        "                params.alpha * (rewardSample + params.gamma * np.max(stateActionValues[newStateSample[0], newStateSample[1], :]) -\n",
        "                stateActionValues[stateSample[0], stateSample[1], actionSample])\n",
        "        currentState=(newState[0][0],newState[1][0])\n",
        "        #print(currentState)\n",
        "        if steps >maxSteps:\n",
        "            break\n",
        "\n",
        "    #if goal reached, go back to start position, action -1 will bring it back to start.\n",
        "    if (currentState == (1,9)):\n",
        "        game.play(-1)\n",
        "\n",
        "    return steps\n",
        "\n",
        "class AllParameters:\n",
        "\n",
        "    def __init__(self):\n",
        "        self.gamma = 0.95\n",
        "        self.epsilon = 0.1\n",
        "        self.alpha = 0.1\n",
        "        self.kappa = 1e-4\n",
        "        self.planningSteps = 5\n",
        "        self.runs = 10\n",
        "        self.theta = 0\n",
        "        # algorithm names\n",
        "        self.methods = ['Dyna-Q', 'Dyna-Q+']\n",
        "\n",
        "        \n",
        "# Select action based on epsilon-greeedy algorithm, returns action - 0,1,2,3\n",
        "def epsilonGreedy(state,stateActionValues,params):\n",
        "    if np.random.binomial(1,params.epsilon) ==1:\n",
        "        return np.random.choice(actions)\n",
        "    else:\n",
        "        values = stateActionValues[state[0],state[1],:]\n",
        "        choices=[]\n",
        "        for action,value in enumerate(values):\n",
        "            if value==np.max(values):\n",
        "                choices.append(action)\n",
        "\n",
        "        choosen_value=np.random.choice(choices)\n",
        "        return choosen_value\n",
        "\n",
        "\n",
        "# Simple model for planning in Dyna-Q\n",
        "class SimpleModel:\n",
        "\n",
        "    # @rand: an instance of np.random.RandomState for sampling\n",
        "    def __init__(self, rand=np.random):\n",
        "        self.model = dict()\n",
        "        self.rand = rand\n",
        "\n",
        "    # train the model with previous experience\n",
        "    def train(self, currentState, action, newState, reward):\n",
        "        if tuple(currentState) not in self.model.keys():\n",
        "            self.model[tuple(currentState)] = dict()\n",
        "        self.model[tuple(currentState)][action] = [list(newState), reward]\n",
        "\n",
        "    # randomly sample from previous experience\n",
        "    def sample(self):\n",
        "        stateIndex = self.rand.choice(range(0, len(self.model.keys())))\n",
        "        state = list(self.model)[stateIndex]\n",
        "        actionIndex = self.rand.choice(range(0, len(self.model[state].keys())))\n",
        "        action = list(self.model[state])[actionIndex]\n",
        "        newState, reward = self.model[state][action]\n",
        "        return list(state), action, list(newState), reward\n",
        "\n",
        "# Planning with Time-based model -  Dyna-Q+\n",
        "class TimeModel:\n",
        "     # @kappa: the weight for elapsed time in sampling reward, will be very small\n",
        "    def __init__(self, maze, kappa=1e-4, rand=np.random):\n",
        "        self.rand = rand\n",
        "        self.model = dict()\n",
        "        self.kappa = kappa\n",
        "        self.time = 0       # tracking time\n",
        "\n",
        "        self.maze = maze\n",
        "\n",
        "    # training our model with past experience\n",
        "    def train(self, currentState, action, newState, reward):\n",
        "        self.time += 1\n",
        "        if tuple(currentState) not in self.model.keys():\n",
        "            self.model[tuple(currentState)] = dict()\n",
        "\n",
        "            # Those actions should be allowed to be considered in the planning which had never been tried before from a state\n",
        "            for action_ in actions:\n",
        "                if action_ != action:\n",
        "                    # these actions will get us back to same state with  reward = zero\n",
        "                    self.model[tuple(currentState)][action_] = [list(currentState), 0, 1]\n",
        "\n",
        "        self.model[tuple(currentState)][action] = [list(newState), reward, self.time]\n",
        "\n",
        "    # random sampling from past experience\n",
        "    def sample(self):\n",
        "        stateIndex = self.rand.choice(range(0, len(self.model.keys())))\n",
        "        state = list(self.model)[stateIndex]\n",
        "        actionIndex = self.rand.choice(range(0, len(self.model[state].keys())))\n",
        "        action = list(self.model[state])[actionIndex]\n",
        "        newState, reward, time = self.model[state][action]\n",
        "\n",
        "        # we shpuld adjust reward - page 136 formula - r+ kappa *sqrt(time difference tau)\n",
        "        reward += self.kappa * np.sqrt(self.time - time)\n",
        "\n",
        "        return list(state), action, list(newState), reward\n",
        "\n"
      ],
      "execution_count": 0,
      "outputs": []
    },
    {
      "metadata": {
        "id": "hLEt8QUBKQ56",
        "colab_type": "code",
        "colab": {
          "autoexec": {
            "startup": false,
            "wait_interval": 0
          }
        }
      },
      "cell_type": "code",
      "source": [
        "\n",
        "def blockingMAZE():\n",
        "    # initializing dynaQ parameters\n",
        "    params = AllParameters()\n",
        "\n",
        "    # trying other alpha\n",
        "    params.alpha = 0.7\n",
        "\n",
        "    # averaging over 15 runs\n",
        "    params.runs = 20\n",
        "\n",
        "    # stateaction value defining with the maze size(fixed)\n",
        "    sAV = np.zeros((8, 11, len(actions)))\n",
        "\n",
        "    # 2 - one for DynaQ and other for DynaQ+\n",
        "    rewards = np.zeros((2, maxSteps))\n",
        "\n",
        "    # Running and averaging over runs\n",
        "    for run in range(0, params.runs):\n",
        "\n",
        "        # cumulative reward in this run (both Dyna Q and Dyna Q+)\n",
        "        rewards_ = np.zeros((2, maxSteps))\n",
        "\n",
        "        # initialize stateaction values for this run. All zero.\n",
        "        stateActionValues = [np.copy(sAV), np.copy(sAV)]\n",
        "\n",
        "        # Dyna Q and Dyna Q+ methods\n",
        "        for i in range(0, len(params.methods)):\n",
        "\n",
        "            # Blocking maze pattern 1\n",
        "            game = make_game(GAME_ART[0])\n",
        "            obs, reward, gamma = game.its_showtime()\n",
        "            # MAZE is here!\n",
        "            maze = np.array(obs.layers['P'], dtype=np.float)\n",
        "\n",
        "            # models will be used in DynaQ and DynaQ+\n",
        "            models = [SimpleModel(), TimeModel(maze, kappa=params.kappa)]\n",
        "\n",
        "            steps = 0\n",
        "            flag = 0\n",
        "            lastSteps = steps\n",
        "            while steps < 3000:\n",
        "                steps += dynaQ(stateActionValues[i], maze, params, game, models[i])\n",
        "                steps_ = min(steps, maxSteps - 1)\n",
        "                rewards_[i, lastSteps: steps_] = rewards_[i, lastSteps]\n",
        "                rewards_[i, steps_] = rewards_[i, lastSteps] + 1\n",
        "                lastSteps = steps\n",
        "\n",
        "                # Change MAZE pattern (Blocking Maze) after 1000 steps\n",
        "                if (steps / 1000 > 1) & (flag == 0):\n",
        "                    flag = 1\n",
        "                    game = make_game(GAME_ART[1])\n",
        "                    obs, reward, gamma = game.its_showtime()\n",
        "                    maze = np.array(obs.layers['P'], dtype=np.float)\n",
        "\n",
        "        rewards += rewards_\n",
        "    # averaging over runs\n",
        "    rewards /= params.runs\n",
        "    print(rewards)\n",
        "\n",
        "    # Plot for average performance of Dyna agents on a blocking task.\n",
        "    plt.figure(1)\n",
        "    for i in range(0, len(params.methods)):\n",
        "        plt.plot(range(0, maxSteps), rewards[i, :], label=params.methods[i])\n",
        "    plt.xlabel('Time Steps')\n",
        "    plt.ylabel('Cumulative Rewards')\n",
        "    plt.title('Blocking MAZE')\n",
        "    plt.legend()\n",
        "    plt.show()\n",
        "    return\n",
        "\n",
        "def shortcutMAZE():\n",
        "    # initializing dynaQ parameters\n",
        "    maxSteps=6000\n",
        "    params = AllParameters()\n",
        "\n",
        "    # trying other alpha\n",
        "    params.alpha = 0.7\n",
        "\n",
        "    # averaging over 5 runs\n",
        "    params.runs = 5\n",
        "\n",
        "    # kappa must be small, as the reward for getting the goal is only 1\n",
        "    params.kappa = 1e-3\n",
        "    params.planningSteps = 50\n",
        "\n",
        "    # stateaction value defining with the maze size(fixed)\n",
        "    sAV = np.zeros((8, 11, len(actions)))\n",
        "\n",
        "    # 2 - one for DynaQ and other for DynaQ+\n",
        "    rewards = np.zeros((2, maxSteps))\n",
        "\n",
        "    # Running and averaging over runs\n",
        "    for run in range(0, params.runs):\n",
        "\n",
        "        # cumulative reward in this run (both Dyna Q and Dyna Q+)\n",
        "        rewards_ = np.zeros((2, maxSteps))\n",
        "\n",
        "        # initialize stateaction values for this run. All zero.\n",
        "        stateActionValues = [np.copy(sAV), np.copy(sAV)]\n",
        "\n",
        "        # Dyna Q and Dyna Q+ methods\n",
        "        for i in range(0, len(params.methods)):\n",
        "\n",
        "            # Blocking maze pattern 1\n",
        "            game = make_game(GAME_ART[1])\n",
        "            obs, reward, gamma = game.its_showtime()\n",
        "            # MAZE is here!\n",
        "            maze = np.array(obs.layers['P'], dtype=np.float)\n",
        "\n",
        "            # models will be used in DynaQ and DynaQ+\n",
        "            models = [SimpleModel(), TimeModel(maze, kappa=params.kappa)]\n",
        "\n",
        "            steps = 0\n",
        "            flag = 0\n",
        "            lastSteps = steps\n",
        "            while steps < 6000:\n",
        "                steps += dynaQ(stateActionValues[i], maze, params, game, models[i])\n",
        "                steps_ = min(steps, maxSteps - 1)\n",
        "                rewards_[i, lastSteps: steps_] = rewards_[i, lastSteps]\n",
        "                rewards_[i, steps_] = rewards_[i, lastSteps] + 1\n",
        "                lastSteps = steps\n",
        "\n",
        "                # Change MAZE pattern (Blocking Maze) after 1000 steps\n",
        "                if (steps / 3000 > 1) & (flag == 0):\n",
        "                    flag = 1\n",
        "                    game = make_game(GAME_ART[2])\n",
        "                    obs, reward, gamma = game.its_showtime()\n",
        "                    maze = np.array(obs.layers['P'], dtype=np.float)\n",
        "        rewards += rewards_\n",
        "    # averaging over runs\n",
        "    rewards /= params.runs\n",
        "    print(rewards)\n",
        "\n",
        "    # Plot for average performance of Dyna agents on a blocking task.\n",
        "    plt.figure(1)\n",
        "    for i in range(0, len(params.methods)):\n",
        "        plt.plot(range(0, maxSteps), rewards[i, :], label=params.methods[i])\n",
        "    plt.xlabel('Time Steps')\n",
        "    plt.ylabel('Cumulative Rewards')\n",
        "    plt.title('Shortcut MAZE')\n",
        "    plt.legend()\n",
        "    plt.show()\n",
        "    return\n"
      ],
      "execution_count": 0,
      "outputs": []
    },
    {
      "metadata": {
        "id": "CAiRJmIBOJO6",
        "colab_type": "text"
      },
      "cell_type": "markdown",
      "source": [
        "## Blocking Maze\n",
        "\n",
        "Intially, there is a path from start($S$) to goal ($G$) as shown in Pattern 1. Here $0$ denotes mvable space and $1$ is obstacle. After $1000$ time steps short path is blocked and the longer path is opened along the left-hand side of barrier as shown in Pattern 2.\n",
        "\n",
        "\n",
        "** Pattern 1**\n",
        "\n",
        "|0|0|0|0|0|0|0|0|G|\n",
        "--|--\n",
        "|0|0|0|0|0|0|0|0|0|\n",
        "|0|0|0|0|0|0|0|0|0|\n",
        "|1|1|1|1|1|1|1|1|0|\n",
        "|0|0|0|0|0|0|0|0|0|\n",
        "|0|0|0|S|0|0|0|0|0|\n",
        "\n",
        "** Pattern 2**\n",
        "\n",
        "|0|0|0|0|0|0|0|0|G|\n",
        "--|--\n",
        "|0|0|0|0|0|0|0|0|0|\n",
        "|0|0|0|0|0|0|0|0|0|\n",
        "|0|1|1|1|1|1|1|1|1|\n",
        "|0|0|0|0|0|0|0|0|0|\n",
        "|0|0|0|S|0|0|0|0|0|\n",
        "\n",
        "\n",
        "**The below graph shows the cumulative reward for Dyna Q and enhanced Dyna Q+ agents for time steps.\n",
        "The average is considered over 20 runs to get smooth plot.**\n",
        "\n",
        "---\n",
        "The final parameter value set for the below graph is as below:\n",
        "\n",
        " Parameter | Final Value \n",
        "---|---\n",
        "$ \\epsilon$ |$0.1$  \n",
        "$\\gamma$ | $0.95$ \n",
        "$\\alpha$ | $0.7$ \n",
        "$ \\kappa$ | $1e-3$\n",
        "Runs| $20$\n",
        "Planning Steps| $5$\n",
        "\n"
      ]
    },
    {
      "metadata": {
        "id": "j4Kh_sBK0Sn1",
        "colab_type": "code",
        "colab": {
          "autoexec": {
            "startup": false,
            "wait_interval": 0
          },
          "output_extras": [
            {
              "item_id": 1
            },
            {
              "item_id": 2
            }
          ],
          "base_uri": "https://localhost:8080/",
          "height": 410
        },
        "outputId": "f034bb82-0eba-44a3-adc0-5575723acccc",
        "executionInfo": {
          "status": "ok",
          "timestamp": 1519348783844,
          "user_tz": 300,
          "elapsed": 52993,
          "user": {
            "displayName": "SHRUTI BHANDERI",
            "photoUrl": "//lh5.googleusercontent.com/-sfHHQK7qz0U/AAAAAAAAAAI/AAAAAAAAAIQ/2hfrELCtnWs/s50-c-k-no/photo.jpg",
            "userId": "108545729721483419192"
          }
        }
      },
      "cell_type": "code",
      "source": [
        "blockingMAZE()"
      ],
      "execution_count": 16,
      "outputs": [
        {
          "output_type": "stream",
          "text": [
            "[[ 0.   0.   0.  ... 69.8 69.8 70.8]\n",
            " [ 0.   0.   0.  ... 95.8 95.9 96.9]]\n"
          ],
          "name": "stdout"
        },
        {
          "output_type": "display_data",
          "data": {
            "image/png": "[encoded data removed]",
            "text/plain": [
              "<matplotlib.figure.Figure at 0x7fa8c6e11470>"
            ]
          },
          "metadata": {
            "tags": []
          }
        }
      ]
    },
    {
      "metadata": {
        "id": "nqcsb6LrX5D8",
        "colab_type": "text"
      },
      "cell_type": "markdown",
      "source": [
        "### The above graph shows that after 1000 time steps when the environment is changed, (the shorter path is opened and the longer one is blocked), the graphs become flat, which indicates the period when agents receive no rewards as they still try to get through the learned longer path and dont try to get into recently opened path. After a while they explore the new opened path and new optimal behavior. "
      ]
    },
    {
      "metadata": {
        "id": "E-4FCqZnSAvo",
        "colab_type": "text"
      },
      "cell_type": "markdown",
      "source": [
        "## Shortcut Maze\n",
        "\n",
        "Intially, there is a path from start($S$) to goal ($G$) as shown in Pattern 1. Here $0$ denotes mvable space and $1$ is obstacle. After $3000$ time steps a shorter path is opened along the right side without disturbing the path on left side as shown in Pattern 2.\n",
        "\n",
        "\n",
        "** Pattern 1**\n",
        "\n",
        "|0|0|0|0|0|0|0|0|0|\n",
        "--|--\n",
        "|0|0|0|0|0|0|0|0|0|\n",
        "|0|0|0|0|0|0|0|0|0|\n",
        "|0|1|1|1|1|1|1|1|1|\n",
        "|0|0|0|0|0|0|0|0|0|\n",
        "|0|0|0|0|0|0|0|0|0|\n",
        "\n",
        "** Pattern 2**\n",
        "\n",
        "|0|0|0|0|0|0|0|0|0|\n",
        "--|--\n",
        "|0|0|0|0|0|0|0|0|0|\n",
        "|0|0|0|0|0|0|0|0|0|\n",
        "|0|1|1|1|1|1|1|1|0|\n",
        "|0|0|0|0|0|0|0|0|0|\n",
        "|0|0|0|0|0|0|0|0|0|\n",
        "\n",
        "**The below graph shows the cumulative reward for Dyna Q and enhanced Dyna Q+ agents for time steps.\n",
        "The average is considered over 20 runs to get smooth plot.**\n",
        "\n",
        "---\n",
        "The final parameter value set for the below graph is as below:\n",
        "\n",
        " Parameter | Final Value \n",
        "---|---\n",
        "$ \\epsilon$ |$0.1$  \n",
        "$\\gamma$ | $0.95$ \n",
        "$\\alpha$ | $0.7$ \n",
        "$ \\kappa$ | $1e-3$\n",
        "Runs| $5$\n",
        "Planning Steps| $50$\n"
      ]
    },
    {
      "metadata": {
        "id": "M7vOxUMF0bHR",
        "colab_type": "code",
        "colab": {
          "autoexec": {
            "startup": false,
            "wait_interval": 0
          },
          "output_extras": [
            {
              "item_id": 1
            },
            {
              "item_id": 2
            }
          ],
          "base_uri": "https://localhost:8080/",
          "height": 410
        },
        "outputId": "11e285e5-5b0e-4222-e07a-160ded9871b9",
        "executionInfo": {
          "status": "ok",
          "timestamp": 1519349411847,
          "user_tz": 300,
          "elapsed": 150104,
          "user": {
            "displayName": "SHRUTI BHANDERI",
            "photoUrl": "//lh5.googleusercontent.com/-sfHHQK7qz0U/AAAAAAAAAAI/AAAAAAAAAIQ/2hfrELCtnWs/s50-c-k-no/photo.jpg",
            "userId": "108545729721483419192"
          }
        }
      },
      "cell_type": "code",
      "source": [
        "shortcutMAZE()"
      ],
      "execution_count": 22,
      "outputs": [
        {
          "output_type": "stream",
          "text": [
            "[[  0.    0.    0.  ... 299.6 299.8 300.8]\n",
            " [  0.    0.    0.  ... 353.  353.  354. ]]\n"
          ],
          "name": "stdout"
        },
        {
          "output_type": "display_data",
          "data": {
            "image/png": "[encoded data removed]",
            "text/plain": [
              "<matplotlib.figure.Figure at 0x7fa8c6cad978>"
            ]
          },
          "metadata": {
            "tags": []
          }
        }
      ]
    },
    {
      "metadata": {
        "id": "KosttApMY2c_",
        "colab_type": "text"
      },
      "cell_type": "markdown",
      "source": [
        "### The above graph shows that after 3000 time steps when the environment is changed, (the other shorter path is opened) Dyna Q agent never realizes about this shorter path. In fact, it never realized that it existed. Its model said that there was no shortcut, so the more it planned (planning steps increased to 50), the less likely it was to step to the right and discover it. Even with an $\\epsilon$ -greedy policy, it is very unlikely that an agent will take so many exploratory actions as to discover the shortcut."
      ]
    },
    {
      "metadata": {
        "id": "FJG-YMM6g2AQ",
        "colab_type": "text"
      },
      "cell_type": "markdown",
      "source": [
        " \n",
        "## How is the above deterministic model update in Dyna-Q related to Lin’s experience replay ? \n",
        "\n",
        "**Answer : **\n",
        "\n",
        "> \n",
        "\n",
        "```\n",
        "An experience is a quadruple, (x, a, y, r), meaning that the execution of an action a in a state x results in a new state y and reward r. A lesson is a temporal sequence of experiences starting from an initial state to a final state, where the goal may or may not be achieved. \n",
        "\n",
        ">Similarly, the deterministic model update in our Dyna-Q algorithm, which is step 5) Model(S,A) <- R,S’ also talks about the same parameters, say state S and action A leads us to next state S’ with reward R. \n",
        "\n",
        ">By experience replay, the learning agent simply remembers its past experiences and repeatedly presents the experiences to its learning algorithm as if the agent experienced again and again what it had experienced before. Similarly, our deterministic model update in Dyna-Q helps us remembering similar sequence of experiences from the corresponding states to converge quickly through planning and learning. \n",
        "\n",
        ">For Dyna-Q, deterministic model is obtained  by sampling past experiences (based on actions and states). In short, the collection of past experiences is a model, which represents  not only explicitly the environment's input-output patterns but also implicitly the probability distributions of multiple outcomes of actions. This characteristics are truly relevant to experience replay as it is also basically learning from past experiences.\n",
        "\n",
        "\n",
        "```\n",
        "\n",
        "\n",
        "\n",
        "\n",
        "\n"
      ]
    }
  ]
}